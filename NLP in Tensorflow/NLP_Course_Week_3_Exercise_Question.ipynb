{
  "nbformat": 4,
  "nbformat_minor": 0,
  "metadata": {
    "accelerator": "GPU",
    "colab": {
      "name": "NLP Course - Week 3 Exercise Question.ipynb",
      "provenance": []
    },
    "kernelspec": {
      "display_name": "Python 3",
      "name": "python3"
    }
  },
  "cells": [
    {
      "cell_type": "code",
      "metadata": {
        "id": "zX4Kg8DUTKWO",
        "colab_type": "code",
        "colab": {}
      },
      "source": [
        "#@title Licensed under the Apache License, Version 2.0 (the \"License\");\n",
        "# you may not use this file except in compliance with the License.\n",
        "# You may obtain a copy of the License at\n",
        "#\n",
        "# https://www.apache.org/licenses/LICENSE-2.0\n",
        "#\n",
        "# Unless required by applicable law or agreed to in writing, software\n",
        "# distributed under the License is distributed on an \"AS IS\" BASIS,\n",
        "# WITHOUT WARRANTIES OR CONDITIONS OF ANY KIND, either express or implied.\n",
        "# See the License for the specific language governing permissions and\n",
        "# limitations under the License."
      ],
      "execution_count": null,
      "outputs": []
    },
    {
      "cell_type": "code",
      "metadata": {
        "colab_type": "code",
        "id": "hmA6EzkQJ5jt",
        "colab": {}
      },
      "source": [
        "import json\n",
        "import tensorflow as tf\n",
        "import csv\n",
        "import random\n",
        "import numpy as np\n",
        "\n",
        "from tensorflow.keras.preprocessing.text import Tokenizer\n",
        "from tensorflow.keras.preprocessing.sequence import pad_sequences\n",
        "from tensorflow.keras.utils import to_categorical\n",
        "from tensorflow.keras import regularizers\n",
        "\n",
        "\n",
        "embedding_dim = 100\n",
        "max_length = 16\n",
        "trunc_type='post'\n",
        "padding_type='post'\n",
        "oov_tok = \"<OOV>\"\n",
        "training_size=160000#Your dataset size here. Experiment using smaller values (i.e. 16000), but don't forget to train on at least 160000 to see the best effects\n",
        "test_portion=.1\n",
        "\n",
        "corpus = []\n"
      ],
      "execution_count": 2,
      "outputs": []
    },
    {
      "cell_type": "code",
      "metadata": {
        "colab_type": "code",
        "id": "bM0l_dORKqE0",
        "colab": {
          "base_uri": "https://localhost:8080/",
          "height": 202
        },
        "outputId": "f818363b-1ec8-4272-9b2f-ece96b47b48d"
      },
      "source": [
        "# Note that I cleaned the Stanford dataset to remove LATIN1 encoding to make it easier for Python CSV reader\n",
        "# You can do that yourself with:\n",
        "# iconv -f LATIN1 -t UTF8 training.1600000.processed.noemoticon.csv -o training_cleaned.csv\n",
        "# I then hosted it on my site to make it easier to use in this notebook\n",
        "\n",
        "!wget --no-check-certificate \\\n",
        "    https://storage.googleapis.com/laurencemoroney-blog.appspot.com/training_cleaned.csv \\\n",
        "    -O /tmp/training_cleaned.csv\n",
        "\n",
        "num_sentences = 0\n",
        "\n",
        "with open(\"/tmp/training_cleaned.csv\") as csvfile:\n",
        "    reader = csv.reader(csvfile, delimiter=',')\n",
        "    for row in reader:\n",
        "        list_item=[]\n",
        "        list_item.append(row[5])\n",
        "        this_label=row[0]\n",
        "        if this_label=='0':\n",
        "            list_item.append(0)\n",
        "        else:\n",
        "            list_item.append(1)\n",
        "        num_sentences = num_sentences + 1\n",
        "        corpus.append(list_item)\n"
      ],
      "execution_count": 3,
      "outputs": [
        {
          "output_type": "stream",
          "text": [
            "--2020-07-25 12:12:41--  https://storage.googleapis.com/laurencemoroney-blog.appspot.com/training_cleaned.csv\n",
            "Resolving storage.googleapis.com (storage.googleapis.com)... 74.125.23.128, 64.233.187.128, 64.233.189.128, ...\n",
            "Connecting to storage.googleapis.com (storage.googleapis.com)|74.125.23.128|:443... connected.\n",
            "HTTP request sent, awaiting response... 200 OK\n",
            "Length: 238942690 (228M) [application/octet-stream]\n",
            "Saving to: ‘/tmp/training_cleaned.csv’\n",
            "\n",
            "/tmp/training_clean 100%[===================>] 227.87M  61.4MB/s    in 3.7s    \n",
            "\n",
            "2020-07-25 12:12:45 (61.4 MB/s) - ‘/tmp/training_cleaned.csv’ saved [238942690/238942690]\n",
            "\n"
          ],
          "name": "stdout"
        }
      ]
    },
    {
      "cell_type": "code",
      "metadata": {
        "colab_type": "code",
        "id": "3kxblBUjEUX-",
        "colab": {
          "base_uri": "https://localhost:8080/",
          "height": 67
        },
        "outputId": "d10ee22f-e355-4797-9d77-565a1e238d3a"
      },
      "source": [
        "print(num_sentences)\n",
        "print(len(corpus))\n",
        "print(corpus[1])\n",
        "\n",
        "# Expected Output:\n",
        "# 1600000\n",
        "# 1600000\n",
        "# [\"is upset that he can't update his Facebook by texting it... and might cry as a result  School today also. Blah!\", 0]"
      ],
      "execution_count": 4,
      "outputs": [
        {
          "output_type": "stream",
          "text": [
            "1600000\n",
            "1600000\n",
            "[\"is upset that he can't update his Facebook by texting it... and might cry as a result  School today also. Blah!\", 0]\n"
          ],
          "name": "stdout"
        }
      ]
    },
    {
      "cell_type": "code",
      "metadata": {
        "colab_type": "code",
        "id": "ohOGz24lsNAD",
        "colab": {}
      },
      "source": [
        "sentences=[]\n",
        "labels=[]\n",
        "random.shuffle(corpus)\n",
        "for x in range(training_size):\n",
        "    sentences.append(corpus[x][0])\n",
        "    labels.append(corpus[x][1])\n",
        "\n",
        "\n",
        "tokenizer = Tokenizer()\n",
        "tokenizer.fit_on_texts(sentences)\n",
        "\n",
        "word_index = tokenizer.word_index\n",
        "vocab_size=len(word_index)\n",
        "\n",
        "sequences = tokenizer.texts_to_sequences(sentences)\n",
        "padded = pad_sequences(sequences, maxlen=max_length, padding=padding_type, truncating=trunc_type)\n",
        "\n",
        "split = int(test_portion * training_size)\n",
        "\n",
        "test_sequences = padded[0:split]\n",
        "training_sequences = padded[split:training_size]\n",
        "test_labels = labels[0:split]\n",
        "training_labels = labels[split:training_size]"
      ],
      "execution_count": 5,
      "outputs": []
    },
    {
      "cell_type": "code",
      "metadata": {
        "colab_type": "code",
        "id": "gIrtRem1En3N",
        "colab": {
          "base_uri": "https://localhost:8080/",
          "height": 50
        },
        "outputId": "4594b311-0b55-4d5d-baee-c5b1b96b39cb"
      },
      "source": [
        "print(vocab_size)\n",
        "print(word_index['i'])\n",
        "# Expected Output\n",
        "# 138858\n",
        "# 1"
      ],
      "execution_count": 6,
      "outputs": [
        {
          "output_type": "stream",
          "text": [
            "138970\n",
            "1\n"
          ],
          "name": "stdout"
        }
      ]
    },
    {
      "cell_type": "code",
      "metadata": {
        "colab_type": "code",
        "id": "C1zdgJkusRh0",
        "colab": {
          "base_uri": "https://localhost:8080/",
          "height": 202
        },
        "outputId": "eb1ad814-079c-4e58-c24d-2d18bf64a81f"
      },
      "source": [
        "# Note this is the 100 dimension version of GloVe from Stanford\n",
        "# I unzipped and hosted it on my site to make this notebook easier\n",
        "!wget --no-check-certificate \\\n",
        "    https://storage.googleapis.com/laurencemoroney-blog.appspot.com/glove.6B.100d.txt \\\n",
        "    -O /tmp/glove.6B.100d.txt\n",
        "embeddings_index = {};\n",
        "with open('/tmp/glove.6B.100d.txt') as f:\n",
        "    for line in f:\n",
        "        values = line.split();\n",
        "        word = values[0];\n",
        "        coefs = np.asarray(values[1:], dtype='float32');\n",
        "        embeddings_index[word] = coefs;\n",
        "\n",
        "embeddings_matrix = np.zeros((vocab_size+1, embedding_dim));\n",
        "for word, i in word_index.items():\n",
        "    embedding_vector = embeddings_index.get(word);\n",
        "    if embedding_vector is not None:\n",
        "        embeddings_matrix[i] = embedding_vector;"
      ],
      "execution_count": 7,
      "outputs": [
        {
          "output_type": "stream",
          "text": [
            "--2020-07-25 12:14:00--  https://storage.googleapis.com/laurencemoroney-blog.appspot.com/glove.6B.100d.txt\n",
            "Resolving storage.googleapis.com (storage.googleapis.com)... 108.177.97.128, 108.177.125.128, 74.125.203.128, ...\n",
            "Connecting to storage.googleapis.com (storage.googleapis.com)|108.177.97.128|:443... connected.\n",
            "HTTP request sent, awaiting response... 200 OK\n",
            "Length: 347116733 (331M) [text/plain]\n",
            "Saving to: ‘/tmp/glove.6B.100d.txt’\n",
            "\n",
            "/tmp/glove.6B.100d. 100%[===================>] 331.04M  32.4MB/s    in 10s     \n",
            "\n",
            "2020-07-25 12:14:11 (32.4 MB/s) - ‘/tmp/glove.6B.100d.txt’ saved [347116733/347116733]\n",
            "\n"
          ],
          "name": "stdout"
        }
      ]
    },
    {
      "cell_type": "code",
      "metadata": {
        "colab_type": "code",
        "id": "71NLk_lpFLNt",
        "colab": {
          "base_uri": "https://localhost:8080/",
          "height": 34
        },
        "outputId": "bec8f6a0-9df3-4cad-8969-4de4233f9f1e"
      },
      "source": [
        "print(len(embeddings_matrix))\n",
        "# Expected Output\n",
        "# 138859"
      ],
      "execution_count": 8,
      "outputs": [
        {
          "output_type": "stream",
          "text": [
            "138971\n"
          ],
          "name": "stdout"
        }
      ]
    },
    {
      "cell_type": "code",
      "metadata": {
        "colab_type": "code",
        "id": "iKKvbuEBOGFz",
        "colab": {
          "base_uri": "https://localhost:8080/",
          "height": 1000
        },
        "outputId": "56d4dfb9-528e-4400-aeeb-abc3c764d237"
      },
      "source": [
        "model = tf.keras.Sequential([\n",
        "    tf.keras.layers.Embedding(vocab_size+1, embedding_dim, input_length=max_length, weights=[embeddings_matrix], trainable=False),\n",
        "    tf.keras.layers.Dropout(0.2),\n",
        "    tf.keras.layers.Conv1D(64, 5, activation='relu'),\n",
        "    tf.keras.layers.MaxPooling1D(pool_size=4),\n",
        "    tf.keras.layers.LSTM(64),\n",
        "    tf.keras.layers.Dense(1, activation='sigmoid')\n",
        "])\n",
        "model.compile(loss='binary_crossentropy',optimizer='adam',metrics=['accuracy'])\n",
        "model.summary()\n",
        "\n",
        "num_epochs = 50\n",
        "\n",
        "training_padded = np.array(training_sequences)\n",
        "training_labels = np.array(training_labels)\n",
        "testing_padded = np.array(test_sequences)\n",
        "testing_labels = np.array(test_labels)\n",
        "\n",
        "history = model.fit(training_padded, training_labels, epochs=num_epochs, validation_data=(testing_padded, testing_labels), verbose=2)\n",
        "\n",
        "print(\"Training Complete\")\n"
      ],
      "execution_count": 9,
      "outputs": [
        {
          "output_type": "stream",
          "text": [
            "Model: \"sequential\"\n",
            "_________________________________________________________________\n",
            "Layer (type)                 Output Shape              Param #   \n",
            "=================================================================\n",
            "embedding (Embedding)        (None, 16, 100)           13897100  \n",
            "_________________________________________________________________\n",
            "dropout (Dropout)            (None, 16, 100)           0         \n",
            "_________________________________________________________________\n",
            "conv1d (Conv1D)              (None, 12, 64)            32064     \n",
            "_________________________________________________________________\n",
            "max_pooling1d (MaxPooling1D) (None, 3, 64)             0         \n",
            "_________________________________________________________________\n",
            "lstm (LSTM)                  (None, 64)                33024     \n",
            "_________________________________________________________________\n",
            "dense (Dense)                (None, 1)                 65        \n",
            "=================================================================\n",
            "Total params: 13,962,253\n",
            "Trainable params: 65,153\n",
            "Non-trainable params: 13,897,100\n",
            "_________________________________________________________________\n",
            "Epoch 1/50\n",
            "4500/4500 - 20s - loss: 0.5671 - accuracy: 0.7007 - val_loss: 0.5208 - val_accuracy: 0.7395\n",
            "Epoch 2/50\n",
            "4500/4500 - 20s - loss: 0.5266 - accuracy: 0.7327 - val_loss: 0.5073 - val_accuracy: 0.7452\n",
            "Epoch 3/50\n",
            "4500/4500 - 20s - loss: 0.5106 - accuracy: 0.7436 - val_loss: 0.5036 - val_accuracy: 0.7491\n",
            "Epoch 4/50\n",
            "4500/4500 - 20s - loss: 0.4998 - accuracy: 0.7501 - val_loss: 0.4950 - val_accuracy: 0.7524\n",
            "Epoch 5/50\n",
            "4500/4500 - 20s - loss: 0.4903 - accuracy: 0.7573 - val_loss: 0.4948 - val_accuracy: 0.7559\n",
            "Epoch 6/50\n",
            "4500/4500 - 20s - loss: 0.4838 - accuracy: 0.7622 - val_loss: 0.4925 - val_accuracy: 0.7573\n",
            "Epoch 7/50\n",
            "4500/4500 - 20s - loss: 0.4776 - accuracy: 0.7665 - val_loss: 0.4934 - val_accuracy: 0.7577\n",
            "Epoch 8/50\n",
            "4500/4500 - 20s - loss: 0.4733 - accuracy: 0.7690 - val_loss: 0.4936 - val_accuracy: 0.7576\n",
            "Epoch 9/50\n",
            "4500/4500 - 20s - loss: 0.4689 - accuracy: 0.7709 - val_loss: 0.4989 - val_accuracy: 0.7530\n",
            "Epoch 10/50\n",
            "4500/4500 - 20s - loss: 0.4664 - accuracy: 0.7721 - val_loss: 0.4942 - val_accuracy: 0.7530\n",
            "Epoch 11/50\n",
            "4500/4500 - 20s - loss: 0.4618 - accuracy: 0.7757 - val_loss: 0.4954 - val_accuracy: 0.7554\n",
            "Epoch 12/50\n",
            "4500/4500 - 20s - loss: 0.4597 - accuracy: 0.7774 - val_loss: 0.4944 - val_accuracy: 0.7534\n",
            "Epoch 13/50\n",
            "4500/4500 - 20s - loss: 0.4575 - accuracy: 0.7788 - val_loss: 0.4984 - val_accuracy: 0.7529\n",
            "Epoch 14/50\n",
            "4500/4500 - 21s - loss: 0.4546 - accuracy: 0.7797 - val_loss: 0.4974 - val_accuracy: 0.7549\n",
            "Epoch 15/50\n",
            "4500/4500 - 21s - loss: 0.4526 - accuracy: 0.7804 - val_loss: 0.5003 - val_accuracy: 0.7576\n",
            "Epoch 16/50\n",
            "4500/4500 - 20s - loss: 0.4509 - accuracy: 0.7817 - val_loss: 0.5046 - val_accuracy: 0.7551\n",
            "Epoch 17/50\n",
            "4500/4500 - 20s - loss: 0.4482 - accuracy: 0.7838 - val_loss: 0.5049 - val_accuracy: 0.7529\n",
            "Epoch 18/50\n",
            "4500/4500 - 20s - loss: 0.4465 - accuracy: 0.7850 - val_loss: 0.5010 - val_accuracy: 0.7549\n",
            "Epoch 19/50\n",
            "4500/4500 - 20s - loss: 0.4456 - accuracy: 0.7853 - val_loss: 0.5041 - val_accuracy: 0.7541\n",
            "Epoch 20/50\n",
            "4500/4500 - 20s - loss: 0.4441 - accuracy: 0.7868 - val_loss: 0.5046 - val_accuracy: 0.7499\n",
            "Epoch 21/50\n",
            "4500/4500 - 20s - loss: 0.4434 - accuracy: 0.7874 - val_loss: 0.5045 - val_accuracy: 0.7536\n",
            "Epoch 22/50\n",
            "4500/4500 - 20s - loss: 0.4407 - accuracy: 0.7877 - val_loss: 0.5043 - val_accuracy: 0.7496\n",
            "Epoch 23/50\n",
            "4500/4500 - 20s - loss: 0.4396 - accuracy: 0.7887 - val_loss: 0.5087 - val_accuracy: 0.7530\n",
            "Epoch 24/50\n",
            "4500/4500 - 20s - loss: 0.4396 - accuracy: 0.7890 - val_loss: 0.5072 - val_accuracy: 0.7511\n",
            "Epoch 25/50\n",
            "4500/4500 - 20s - loss: 0.4370 - accuracy: 0.7906 - val_loss: 0.5118 - val_accuracy: 0.7504\n",
            "Epoch 26/50\n",
            "4500/4500 - 20s - loss: 0.4380 - accuracy: 0.7896 - val_loss: 0.5099 - val_accuracy: 0.7494\n",
            "Epoch 27/50\n",
            "4500/4500 - 20s - loss: 0.4380 - accuracy: 0.7898 - val_loss: 0.5094 - val_accuracy: 0.7512\n",
            "Epoch 28/50\n",
            "4500/4500 - 20s - loss: 0.4360 - accuracy: 0.7918 - val_loss: 0.5097 - val_accuracy: 0.7521\n",
            "Epoch 29/50\n",
            "4500/4500 - 20s - loss: 0.4352 - accuracy: 0.7919 - val_loss: 0.5125 - val_accuracy: 0.7503\n",
            "Epoch 30/50\n",
            "4500/4500 - 21s - loss: 0.4354 - accuracy: 0.7912 - val_loss: 0.5109 - val_accuracy: 0.7506\n",
            "Epoch 31/50\n",
            "4500/4500 - 20s - loss: 0.4348 - accuracy: 0.7913 - val_loss: 0.5101 - val_accuracy: 0.7513\n",
            "Epoch 32/50\n",
            "4500/4500 - 20s - loss: 0.4344 - accuracy: 0.7917 - val_loss: 0.5088 - val_accuracy: 0.7484\n",
            "Epoch 33/50\n",
            "4500/4500 - 20s - loss: 0.4335 - accuracy: 0.7921 - val_loss: 0.5118 - val_accuracy: 0.7524\n",
            "Epoch 34/50\n",
            "4500/4500 - 20s - loss: 0.4330 - accuracy: 0.7934 - val_loss: 0.5108 - val_accuracy: 0.7516\n",
            "Epoch 35/50\n",
            "4500/4500 - 20s - loss: 0.4339 - accuracy: 0.7931 - val_loss: 0.5159 - val_accuracy: 0.7496\n",
            "Epoch 36/50\n",
            "4500/4500 - 20s - loss: 0.4332 - accuracy: 0.7929 - val_loss: 0.5101 - val_accuracy: 0.7514\n",
            "Epoch 37/50\n",
            "4500/4500 - 20s - loss: 0.4318 - accuracy: 0.7935 - val_loss: 0.5167 - val_accuracy: 0.7486\n",
            "Epoch 38/50\n",
            "4500/4500 - 20s - loss: 0.4304 - accuracy: 0.7955 - val_loss: 0.5180 - val_accuracy: 0.7514\n",
            "Epoch 39/50\n",
            "4500/4500 - 20s - loss: 0.4310 - accuracy: 0.7936 - val_loss: 0.5103 - val_accuracy: 0.7504\n",
            "Epoch 40/50\n",
            "4500/4500 - 20s - loss: 0.4302 - accuracy: 0.7950 - val_loss: 0.5154 - val_accuracy: 0.7477\n",
            "Epoch 41/50\n",
            "4500/4500 - 20s - loss: 0.4305 - accuracy: 0.7946 - val_loss: 0.5183 - val_accuracy: 0.7505\n",
            "Epoch 42/50\n",
            "4500/4500 - 20s - loss: 0.4294 - accuracy: 0.7952 - val_loss: 0.5138 - val_accuracy: 0.7530\n",
            "Epoch 43/50\n",
            "4500/4500 - 21s - loss: 0.4306 - accuracy: 0.7939 - val_loss: 0.5142 - val_accuracy: 0.7507\n",
            "Epoch 44/50\n",
            "4500/4500 - 21s - loss: 0.4285 - accuracy: 0.7959 - val_loss: 0.5171 - val_accuracy: 0.7451\n",
            "Epoch 45/50\n",
            "4500/4500 - 22s - loss: 0.4286 - accuracy: 0.7965 - val_loss: 0.5144 - val_accuracy: 0.7464\n",
            "Epoch 46/50\n",
            "4500/4500 - 20s - loss: 0.4282 - accuracy: 0.7970 - val_loss: 0.5163 - val_accuracy: 0.7456\n",
            "Epoch 47/50\n",
            "4500/4500 - 20s - loss: 0.4270 - accuracy: 0.7970 - val_loss: 0.5178 - val_accuracy: 0.7493\n",
            "Epoch 48/50\n",
            "4500/4500 - 20s - loss: 0.4295 - accuracy: 0.7945 - val_loss: 0.5170 - val_accuracy: 0.7507\n",
            "Epoch 49/50\n",
            "4500/4500 - 20s - loss: 0.4283 - accuracy: 0.7969 - val_loss: 0.5178 - val_accuracy: 0.7501\n",
            "Epoch 50/50\n",
            "4500/4500 - 20s - loss: 0.4277 - accuracy: 0.7965 - val_loss: 0.5230 - val_accuracy: 0.7487\n",
            "Training Complete\n"
          ],
          "name": "stdout"
        }
      ]
    },
    {
      "cell_type": "code",
      "metadata": {
        "colab_type": "code",
        "id": "qxju4ItJKO8F",
        "colab": {
          "base_uri": "https://localhost:8080/",
          "height": 606
        },
        "outputId": "46bf2ea2-22b1-4dbc-8af8-9ad894c25f24"
      },
      "source": [
        "import matplotlib.image  as mpimg\n",
        "import matplotlib.pyplot as plt\n",
        "\n",
        "#-----------------------------------------------------------\n",
        "# Retrieve a list of list results on training and test data\n",
        "# sets for each training epoch\n",
        "#-----------------------------------------------------------\n",
        "acc=history.history['accuracy']\n",
        "val_acc=history.history['val_accuracy']\n",
        "loss=history.history['loss']\n",
        "val_loss=history.history['val_loss']\n",
        "\n",
        "epochs=range(len(acc)) # Get number of epochs\n",
        "\n",
        "#------------------------------------------------\n",
        "# Plot training and validation accuracy per epoch\n",
        "#------------------------------------------------\n",
        "plt.plot(epochs, acc, 'r')\n",
        "plt.plot(epochs, val_acc, 'b')\n",
        "plt.title('Training and validation accuracy')\n",
        "plt.xlabel(\"Epochs\")\n",
        "plt.ylabel(\"Accuracy\")\n",
        "plt.legend([\"Accuracy\", \"Validation Accuracy\"])\n",
        "\n",
        "plt.figure()\n",
        "\n",
        "#------------------------------------------------\n",
        "# Plot training and validation loss per epoch\n",
        "#------------------------------------------------\n",
        "plt.plot(epochs, loss, 'r')\n",
        "plt.plot(epochs, val_loss, 'b')\n",
        "plt.title('Training and validation loss')\n",
        "plt.xlabel(\"Epochs\")\n",
        "plt.ylabel(\"Loss\")\n",
        "plt.legend([\"Loss\", \"Validation Loss\"])\n",
        "\n",
        "plt.figure()\n",
        "\n",
        "\n",
        "# Expected Output\n",
        "# A chart where the validation loss does not increase sharply!"
      ],
      "execution_count": 10,
      "outputs": [
        {
          "output_type": "execute_result",
          "data": {
            "text/plain": [
              "<Figure size 432x288 with 0 Axes>"
            ]
          },
          "metadata": {
            "tags": []
          },
          "execution_count": 10
        },
        {
          "output_type": "display_data",
          "data": {
            "image/png": "[encoded data removed]",
            "text/plain": [
              "<Figure size 432x288 with 1 Axes>"
            ]
          },
          "metadata": {
            "tags": [],
            "needs_background": "light"
          }
        },
        {
          "output_type": "display_data",
          "data": {
            "image/png": "[encoded data removed]",
            "text/plain": [
              "<Figure size 432x288 with 1 Axes>"
            ]
          },
          "metadata": {
            "tags": [],
            "needs_background": "light"
          }
        },
        {
          "output_type": "display_data",
          "data": {
            "text/plain": [
              "<Figure size 432x288 with 0 Axes>"
            ]
          },
          "metadata": {
            "tags": []
          }
        }
      ]
    }
  ]
}